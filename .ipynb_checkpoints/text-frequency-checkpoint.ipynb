{
 "cells": [
  {
   "cell_type": "markdown",
   "metadata": {},
   "source": [
    "# Introduction"
   ]
  },
  {
   "cell_type": "markdown",
   "metadata": {},
   "source": [
    "In this program, we look at parsing a large piece of a text file and analysing the character frequency using Python. This is typically called as the letter frequency. [See this detailed explanation](https://en.wikipedia.org/wiki/Letter_frequency). After parsing through the text, we store each alphabet and its respective count in the form of a Python dictionary. Subsequently, we sort the dictionary both in alphabetical order as well as count order. These are then plotted as a bar chart which gives an idea about the frequency of the character in the English language written text."
   ]
  },
  {
   "cell_type": "code",
   "execution_count": 41,
   "metadata": {
    "collapsed": false
   },
   "outputs": [],
   "source": [
    "%matplotlib inline\n",
    "\n",
    "import string\n",
    "import matplotlib.pyplot as plt"
   ]
  },
  {
   "cell_type": "markdown",
   "metadata": {},
   "source": [
    "Here, we import two modules, namely, `string` and `matplotlib`. The `string` module has a number of constants and classes which can be used to obtain the required ASCII characters. These characters can then be used as strings to check against the text that is to be parsed. For example, the text file may contain characters such as `(, -, \", ., ~` which is of no interest for generating the letter frequency since only the alphabets are taken into account."
   ]
  },
  {
   "cell_type": "code",
   "execution_count": 42,
   "metadata": {
    "collapsed": true
   },
   "outputs": [],
   "source": [
    "pd = string.punctuation + string.digits\n",
    "lettersDict = {}"
   ]
  },
  {
   "cell_type": "markdown",
   "metadata": {},
   "source": [
    "In the above line, we combine two `string` classes to obtain a single variable `pd` which contains both the punctuation and the digits characters. This is followed by creating an empty dictionary which will  later be used to store the values and counts of the letters."
   ]
  },
  {
   "cell_type": "code",
   "execution_count": 43,
   "metadata": {
    "collapsed": false
   },
   "outputs": [
    {
     "name": "stdout",
     "output_type": "stream",
     "text": [
      "Enter the file name: intro.txt\n"
     ]
    }
   ],
   "source": [
    "text = raw_input(\"Enter the file name: \")\n",
    "\n",
    "with open(text, 'r') as textfile:\n",
    "\tfor line in textfile:\n",
    "\t\tline = line.strip()\n",
    "\t\tline = line.translate(None, pd)\n",
    "\t\tline = line.lower()\n",
    "\t\tletters = list(line)\n",
    "\t\tfor letter in letters:\n",
    "\t\t\tif not \" \" in letter and not \"\\t\" in letter:\n",
    "\t\t\t\tlettersDict[letter] = lettersDict.get(letter, 0) + 1"
   ]
  },
  {
   "cell_type": "markdown",
   "metadata": {},
   "source": [
    "The text file for parsing is opened and processed line by line using the `for` loop. Firstly, the leading and trailing spaces are removed using the `strip()` method and then using the `translate` method, the text is translated excluding the strings present in the variable `pd`. The translated text now contains only the alphabets which are then converted to a list. At this point, the code has not checked for the presence of any spaces or tabs in the text. We check this prior to storing letters in the dictionary. Note that the `get` method is used to check the empty dictionary and subsequently update the keys and counts respectively."
   ]
  },
  {
   "cell_type": "code",
   "execution_count": 44,
   "metadata": {
    "collapsed": false
   },
   "outputs": [],
   "source": [
    "lettersCount = []\n",
    "countLetters = []\n",
    "totalCount = 0"
   ]
  },
  {
   "cell_type": "markdown",
   "metadata": {},
   "source": [
    "A few empty lists are initialised for storing key and values from the dictionary as tuples and then sorting out in the required order. Also, we initiate a variable `totalcount` for storing the total number of all the letters. This will be later used to calculate the percentage of every letter."
   ]
  },
  {
   "cell_type": "code",
   "execution_count": 45,
   "metadata": {
    "collapsed": true
   },
   "outputs": [],
   "source": [
    "for l, c in lettersDict.items():\n",
    "\tlettersCount.append((l, float(c)))\n",
    "\tcountLetters.append((float(c), l))\n",
    "\ttotalCount = totalCount + c"
   ]
  },
  {
   "cell_type": "markdown",
   "metadata": {
    "collapsed": true
   },
   "source": [
    "Here, we append the list with the tuples having key value pair. This consequently becomes a list of tuples and, therefore, we can change the order. The `lettersCount` list contains the key-value pairs, while the `countLetters` has value-key pairs."
   ]
  },
  {
   "cell_type": "code",
   "execution_count": 46,
   "metadata": {
    "collapsed": true
   },
   "outputs": [],
   "source": [
    "lettersCount.sort()\n",
    "countLetters.sort(reverse=True)"
   ]
  },
  {
   "cell_type": "markdown",
   "metadata": {},
   "source": [
    "The sorting can now be carried out on both the lists that contain tuples. The first one sorts based on the keys while the second is sorted based on the value."
   ]
  },
  {
   "cell_type": "code",
   "execution_count": 47,
   "metadata": {
    "collapsed": true
   },
   "outputs": [],
   "source": [
    "relCount = []\n",
    "relCountReverse = []\n",
    "labels = []\n",
    "labelsReverse = []\n",
    "values = []"
   ]
  },
  {
   "cell_type": "markdown",
   "metadata": {},
   "source": [
    "Again, we initialise some lists that will be used for the purpose of plotting."
   ]
  },
  {
   "cell_type": "code",
   "execution_count": 48,
   "metadata": {
    "collapsed": true
   },
   "outputs": [],
   "source": [
    "for L, C in lettersCount:\n",
    "\trelCount.append((float(C) / totalCount) * 100)\n",
    "\tlabels.append(L)\n",
    "\n",
    "for Cr, Lr in countLetters:\n",
    "\trelCountReverse.append((float(Cr) / totalCount) * 100)\n",
    "\tlabelsReverse.append(Lr)"
   ]
  },
  {
   "cell_type": "markdown",
   "metadata": {},
   "source": [
    "The above two loops evaluate the relative counts (percentage) and append the characters into appropriate lists. However, the order is changed between the two lists as it becomes apparent when these are plotted."
   ]
  },
  {
   "cell_type": "code",
   "execution_count": 49,
   "metadata": {
    "collapsed": false
   },
   "outputs": [
    {
     "data": {
      "text/plain": [
       "<matplotlib.text.Text at 0x7fc66a9ece10>"
      ]
     },
     "execution_count": 49,
     "metadata": {},
     "output_type": "execute_result"
    },
    {
     "data": {
      "image/png": "[encoded data removed]",
      "text/plain": [
       "<matplotlib.figure.Figure at 0x7fc66ad2c1d0>"
      ]
     },
     "metadata": {},
     "output_type": "display_data"
    }
   ],
   "source": [
    "# alphabetical order\n",
    "figure1 = plt.figure(1)\n",
    "width = 1/1.25\n",
    "plt.title(\"Text frequency in percentage\")\n",
    "plt.bar(range(len(lettersCount)), relCount, width, color=\"blue\", align=\"center\")\n",
    "plt.xticks(range(len(lettersCount)), labels)\n",
    "plt.xlim(-1, 26)\n",
    "plt.xlabel(\"Alphabets\")\n",
    "plt.ylabel(\"Percentage\")"
   ]
  },
  {
   "cell_type": "code",
   "execution_count": 50,
   "metadata": {
    "collapsed": false
   },
   "outputs": [
    {
     "data": {
      "text/plain": [
       "<matplotlib.text.Text at 0x7fc66ad62a10>"
      ]
     },
     "execution_count": 50,
     "metadata": {},
     "output_type": "execute_result"
    },
    {
     "data": {
      "image/png": "[encoded data removed]",
      "text/plain": [
       "<matplotlib.figure.Figure at 0x7fc66a7ff890>"
      ]
     },
     "metadata": {},
     "output_type": "display_data"
    }
   ],
   "source": [
    "# decending order of percentage\n",
    "figure2 = plt.figure(2)\n",
    "plt.title(\"Text frequency in percentage\")\n",
    "plt.bar(range(len(countLetters)), relCountReverse, width, color=\"green\", align=\"center\")\n",
    "plt.xticks(range(len(countLetters)), labelsReverse)\n",
    "plt.xlim(-1, 26)\n",
    "plt.xlabel(\"Alphabets\")\n",
    "plt.ylabel(\"Percentage\")"
   ]
  }
 ],
 "metadata": {
  "kernelspec": {
   "display_name": "Python 2",
   "language": "python",
   "name": "python2"
  },
  "language_info": {
   "codemirror_mode": {
    "name": "ipython",
    "version": 2
   },
   "file_extension": ".py",
   "mimetype": "text/x-python",
   "name": "python",
   "nbconvert_exporter": "python",
   "pygments_lexer": "ipython2",
   "version": "2.7.10"
  }
 },
 "nbformat": 4,
 "nbformat_minor": 0
}
